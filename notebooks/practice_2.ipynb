{
 "cells": [
  {
   "cell_type": "markdown",
   "metadata": {
    "collapsed": false
   },
   "source": [
    "# Práctica 2\n",
    "\n",
    "Para esta tarea, veremos los datos de vacunas de 2017. El archivo con estos datos está en `/data/NISPUF17.csv`. Para conocer los nombres de las variables de los datos tienes disponible una guía de usuarios de datos en `/data/NIS-PUF17-DUG.pdf`."
   ]
  },
  {
   "cell_type": "markdown",
   "metadata": {
    "collapsed": false
   },
   "source": [
    "## Pregunta 1\n",
    "\n",
    "Escribe una función llamada `proportion_of_education` que devuelva la proporción de niños en el dataset que tuvieron una madre con los niveles de educación: igual a menor de secundaria (<12), secundaria (12), mayor que secundaria pero sin ser universitaria graduada (>12) y con título universitario.\n",
    "\n",
    "Esta función debería devolver un diccionario en forma de (use los números correctos, no redondee los números):\n",
    "\n",
    "```python\n",
    "{\"menor que  secundaria\": 0.2,\n",
    " \"secundaria\": 0.4,\n",
    " \"mayor a secundaria pero no universitaria\": 0.2,\n",
    " \"universitaria\": 0.2}\n",
    "```\n"
   ]
  },
  {
   "cell_type": "code",
   "execution_count": 1,
   "metadata": {
    "ExecuteTime": {
     "end_time": "2023-05-21T22:00:42.430893575Z",
     "start_time": "2023-05-21T22:00:42.382088417Z"
    },
    "collapsed": false
   },
   "outputs": [
    {
     "data": {
      "text/plain": [
       "{'menor que secundaria': 0.10202002459160373,\n",
       " 'secundaria': 0.172352011241876,\n",
       " 'mayor a secundaria pero no universitaria': 0.24588090637625154,\n",
       " 'universitaria': 0.47974705779026877}"
      ]
     },
     "execution_count": 1,
     "metadata": {},
     "output_type": "execute_result"
    }
   ],
   "source": [
    "import pandas as pd\n",
    "\n",
    "\n",
    "def proportion_of_education():\n",
    "    df = pd.read_csv(\"../data/NISPUF17.csv\")\n",
    "    total_count = len(df)\n",
    "    proportions = {\n",
    "        \"menor que secundaria\": len(df[df[\"EDUC1\"] == 1]) / total_count,\n",
    "        \"secundaria\": len(df[df[\"EDUC1\"] == 2]) / total_count,\n",
    "        \"mayor a secundaria pero no universitaria\": len(df[df[\"EDUC1\"] == 3]) / total_count,\n",
    "        \"universitaria\": len(df[df[\"EDUC1\"] == 4]) / total_count\n",
    "    }\n",
    "    \n",
    "    return proportions\n",
    "\n",
    "\n",
    "proportion_of_education()"
   ]
  },
  {
   "cell_type": "markdown",
   "metadata": {
    "collapsed": false
   },
   "source": [
    "## Pregunta 2\n",
    "\n",
    "Exploremos la relación entre ser alimentado con leche materna (fed breast milk) cuando era niño y recibir una vacuna contra la influenza estacional (seasonal influenza) de un proveedor de atención médica.\n",
    "\n",
    "Devuelva una tupla del número promedio de vacunas contra la influenza para aquellos niños que sabemos que recibieron leche materna cuando eran niños y aquellos que sabemos que no."
   ]
  },
  {
   "cell_type": "code",
   "execution_count": 8,
   "metadata": {
    "collapsed": false
   },
   "outputs": [
    {
     "data": {
      "text/plain": [
       "(1.8799187420058687, 1.5963945918878317)"
      ]
     },
     "execution_count": 8,
     "metadata": {},
     "output_type": "execute_result"
    }
   ],
   "source": [
    "def average_influenza_doses():\n",
    "    df = pd.read_csv(\"../data/NISPUF17.csv\")\n",
    "    leche_materna = df[df[\"CBF_01\"] == 1][\"P_NUMFLU\"]\n",
    "    no_leche_materna = df[df[\"CBF_01\"] == 2][\"P_NUMFLU\"]\n",
    "    return (leche_materna.mean().item(), no_leche_materna.mean().item())\n",
    "\n",
    "\n",
    "average_influenza_doses()"
   ]
  },
  {
   "cell_type": "markdown",
   "metadata": {
    "collapsed": false
   },
   "source": [
    "# Pregunta 3\n",
    "\n",
    "Sería interesante ver si hay evidencia de un vínculo entre la efectividad de la vacuna y el sexo del niño.\n",
    "Calcule el ratio entre el número de niños que contrajeron varicela (chickenpox) pero que fueron vacunados contra ella (al menos una dosis) versus los que fueron vacunados y no contrajeron varicela.\n",
    "\n",
    "Devuelve los resultados por sexo.\n",
    "\n",
    "Esta función debería devolver un diccionario en forma de:\n",
    "\n",
    "```python\n",
    "{\"male\": 0.2, \"female\": 0.4}\n",
    "```\n",
    "\n",
    "Nota: Para ayudar en la verificación, el valor de chickenpox_by_sex()['female'] comienza con los dígitos 0.0077."
   ]
  },
  {
   "cell_type": "code",
   "execution_count": 9,
   "metadata": {
    "collapsed": false
   },
   "outputs": [
    {
     "data": {
      "text/plain": [
       "{'male': 0.009675583380762664, 'female': 0.0077918259335489565}"
      ]
     },
     "execution_count": 9,
     "metadata": {},
     "output_type": "execute_result"
    }
   ],
   "source": [
    "def chickenpox_by_sex():\n",
    "    df = pd.read_csv(\"../data/NISPUF17.csv\")\n",
    "    vaccinated = df[df[\"P_NUMVRC\"] >= 1]\n",
    "    male_vaccinated = vaccinated[vaccinated[\"SEX\"] == 1]\n",
    "    male_chickenpox = len(male_vaccinated[male_vaccinated[\"HAD_CPOX\"] == 1])\n",
    "    male_no_chickenpox = len(male_vaccinated[male_vaccinated[\"HAD_CPOX\"] == 2])\n",
    "    male_ratio = male_chickenpox / male_no_chickenpox if male_no_chickenpox > 0 else 0\n",
    "    female_vaccinated = vaccinated[vaccinated[\"SEX\"] == 2]\n",
    "    female_chickenpox = len(female_vaccinated[female_vaccinated[\"HAD_CPOX\"] == 1])\n",
    "    female_no_chickenpox = len(female_vaccinated[female_vaccinated[\"HAD_CPOX\"] == 2])\n",
    "    female_ratio = female_chickenpox / female_no_chickenpox if female_no_chickenpox > 0 else 0\n",
    "    return {\"male\": male_ratio, \"female\": female_ratio}\n",
    "\n",
    "\n",
    "chickenpox_by_sex()"
   ]
  }
 ],
 "metadata": {
  "kernelspec": {
   "display_name": ".venv",
   "language": "python",
   "name": "python3"
  },
  "language_info": {
   "codemirror_mode": {
    "name": "ipython",
    "version": 3
   },
   "file_extension": ".py",
   "mimetype": "text/x-python",
   "name": "python",
   "nbconvert_exporter": "python",
   "pygments_lexer": "ipython3",
   "version": "3.12.5"
  }
 },
 "nbformat": 4,
 "nbformat_minor": 0
}
